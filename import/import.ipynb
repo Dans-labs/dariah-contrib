{
 "cells": [
  {
   "cell_type": "code",
   "execution_count": 18,
   "metadata": {},
   "outputs": [],
   "source": [
    "import os\n",
    "from itertools import chain\n",
    "from openpyxl import load_workbook"
   ]
  },
  {
   "cell_type": "code",
   "execution_count": 7,
   "metadata": {},
   "outputs": [],
   "source": [
    "inFile = os.path.expanduser('~/Documents/DANS/projects/dariah/bulk/DE2018StefanBuddenbohm@dariah.eu.xlsx')"
   ]
  },
  {
   "cell_type": "code",
   "execution_count": 20,
   "metadata": {},
   "outputs": [],
   "source": [
    "MULTIPLE = set('''\n",
    "    contactPersonName\n",
    "    contactPersonEmail\n",
    "    urlContribution\n",
    "    urlAcademic\n",
    "'''.strip().split())"
   ]
  },
  {
   "cell_type": "code",
   "execution_count": 22,
   "metadata": {},
   "outputs": [
    {
     "data": {
      "text/plain": [
       "<generator object Worksheet._cells_by_row at 0x7f8db084bf50>"
      ]
     },
     "execution_count": 22,
     "metadata": {},
     "output_type": "execute_result"
    }
   ],
   "source": [
    "ws.rows"
   ]
  },
  {
   "cell_type": "code",
   "execution_count": 39,
   "metadata": {},
   "outputs": [],
   "source": [
    "def readSheet(fileName):\n",
    "    wb = load_workbook(inFile)\n",
    "    ws = wb['contributions']\n",
    "    \n",
    "    (headRow, *rows) = list(ws.rows)\n",
    "    header = {i: cell.value for (i, cell) in enumerate(headRow)}\n",
    "    \n",
    "    contribs = []\n",
    "    for row in rows:\n",
    "        contrib = {}\n",
    "        for (i, cell) in enumerate(headRow):\n",
    "            field = header[i]\n",
    "            value = row[i].value\n",
    "            if field in MULTIPLE:\n",
    "                value = tuple(line.strip() for line in chain.from_iterable(line.split(',') for line in value.splitlines())) if value else []\n",
    "            contrib[field] = value\n",
    "        contribs.append(contrib)      \n",
    "    return contribs"
   ]
  },
  {
   "cell_type": "code",
   "execution_count": 40,
   "metadata": {},
   "outputs": [],
   "source": [
    "contribs = readSheet(inFile)"
   ]
  },
  {
   "cell_type": "code",
   "execution_count": 41,
   "metadata": {},
   "outputs": [
    {
     "data": {
      "text/plain": [
       "{'title': 'DARIAH-DE Boards',\n",
       " 'typeContribution': 'activity - DARIAH coordination',\n",
       " 'vcc': 'Coordination',\n",
       " 'description': '# Management\\n\\n* Academic Advisory Board\\n* Technical Advisory Board\\n\\n# Stakeholder Board Research Collections\\n\\nThe stakeholder board works to enhance the visibility and ensure the subsequent use of research collections. German language meetings consulting on the dissemination and use of scientific collections.\\n\\n# Steering committee\\n\\nThe DARIAH-DE Steering Committee acts as strategic supervisory board for the project and is composed of representatives of the consortium partners.\\n\\n# Executive committee\\n\\nThe DARIAH-DE Executive Committee acts as decison making board for the project and is composed of representatives of the clusters.',\n",
       " 'contactPersonName': ('Jan Rohden',),\n",
       " 'contactPersonEmail': ('dco-de@de.dariah.eu',),\n",
       " 'urlContribution': ('https://de.dariah.eu/dariah-gremien',\n",
       "  'https://wiki.de.dariah.eu/x/4wei',\n",
       "  'http://webdoc.sub.gwdg.de/pub/mon/dariah-de/dwp-2018-26.pdf'),\n",
       " 'urlAcademic': ('https://de.dariah.eu/',),\n",
       " 'tadirahObject': None,\n",
       " 'tadirahActivity': None,\n",
       " 'tadirahTechnique': None,\n",
       " 'discipline': None,\n",
       " 'keyword': None}"
      ]
     },
     "execution_count": 41,
     "metadata": {},
     "output_type": "execute_result"
    }
   ],
   "source": [
    "contribs[0]"
   ]
  },
  {
   "cell_type": "code",
   "execution_count": null,
   "metadata": {},
   "outputs": [],
   "source": []
  }
 ],
 "metadata": {
  "kernelspec": {
   "display_name": "Python 3",
   "language": "python",
   "name": "python3"
  },
  "language_info": {
   "codemirror_mode": {
    "name": "ipython",
    "version": 3
   },
   "file_extension": ".py",
   "mimetype": "text/x-python",
   "name": "python",
   "nbconvert_exporter": "python",
   "pygments_lexer": "ipython3",
   "version": "3.7.7"
  }
 },
 "nbformat": 4,
 "nbformat_minor": 4
}
